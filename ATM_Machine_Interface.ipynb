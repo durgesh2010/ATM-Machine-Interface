{
  "nbformat": 4,
  "nbformat_minor": 0,
  "metadata": {
    "colab": {
      "provenance": [],
      "authorship_tag": "ABX9TyMN1G1iiVhjYR0kVkUSi4cn",
      "include_colab_link": true
    },
    "kernelspec": {
      "name": "python3",
      "display_name": "Python 3"
    },
    "language_info": {
      "name": "python"
    }
  },
  "cells": [
    {
      "cell_type": "markdown",
      "metadata": {
        "id": "view-in-github",
        "colab_type": "text"
      },
      "source": [
        "<a href=\"https://colab.research.google.com/github/durgesh2010/ATM-Machine-Interface/blob/main/ATM_Machine_Interface.ipynb\" target=\"_parent\"><img src=\"https://colab.research.google.com/assets/colab-badge.svg\" alt=\"Open In Colab\"/></a>"
      ]
    },
    {
      "cell_type": "code",
      "execution_count": null,
      "metadata": {
        "id": "cYTOQuTxSGZx"
      },
      "outputs": [],
      "source": []
    },
    {
      "cell_type": "code",
      "source": [
        "class atm:\n",
        "  def __init__(self):\n",
        "    self.pin = ''\n",
        "    self.balance = 0\n",
        "    self.menu() # it will call menu method while creating object\n",
        "\n",
        "  def menu(self):\n",
        "\n",
        "    user_input = input(''' \n",
        "                            hello how would you like to proceed?\n",
        "                            1. Enter 1 to create pin\n",
        "                            2. Enter 2 to create deposit \n",
        "                            3. Enter 3 to withdraw\n",
        "                            4. Enter 4 to check balance\n",
        "                            5. Enter 5 to exit.  ''')\n",
        "  \n",
        "\n",
        "    if user_input == '1':\n",
        "      print('create pin')\n",
        "      self.create_pin()\n",
        "      \n",
        "    elif user_input == '2':\n",
        "      print ('deposit')\n",
        "      self.deposit()  \n",
        "    elif user_input == '3':\n",
        "        print('withdraw')\n",
        "    elif user_input == '4':\n",
        "      print('check balance')\n",
        "    else :\n",
        "      print('exit')  \n",
        "\n",
        "\n",
        "  def create_pin(self):\n",
        "    self.pin = input(\"Enter Your Pin \")\n",
        "    print('pin set succesfully')\n",
        "\n",
        "  def deposit(self):\n",
        "    temp = input('Enter your pin ')\n",
        "    if temp == self.pin:\n",
        "      amount = int(input(\"Enter the amount\"))\n",
        "      self.balance = self.balance + amount\n",
        "      print(\"deposit successfull\") \n",
        "   \n",
        "    else :\n",
        "      print('invalid pin')    \n",
        "\n",
        "  def withdrawal(self):\n",
        "    temp = input('Enter your pin ')\n",
        "    if temp ==self.pin:\n",
        "      amount = int(input(\"Enter the amount\"))\n",
        "      if self.balance > amount:\n",
        "        self.balance = self.balance - amount\n",
        "        print('withdrawal successfull')\n",
        "      else :\n",
        "        print('Not enough balance change amount')\n",
        "    else :\n",
        "      print('invalid pin')    \n",
        "    \n",
        "  def check_balance(self):\n",
        "    temp = input('Enter your pin ')\n",
        "    if temp ==self.pin:\n",
        "      print(self.balance)\n",
        "    else :\n",
        "      print('invalid pin')  \n",
        "       \n",
        "  \n",
        "\n"
      ],
      "metadata": {
        "id": "kgTDK0UNWki9"
      },
      "execution_count": 2,
      "outputs": []
    },
    {
      "cell_type": "code",
      "source": [
        "sbi = atm()\n"
      ],
      "metadata": {
        "id": "A3UwXt-JWknK",
        "colab": {
          "base_uri": "https://localhost:8080/"
        },
        "outputId": "624377de-7cdd-4c73-aac6-d467b4b67ed9"
      },
      "execution_count": 3,
      "outputs": [
        {
          "output_type": "stream",
          "name": "stdout",
          "text": [
            " \n",
            "                            hello how would you like to proceed?\n",
            "                            1. Enter 1 to create pin\n",
            "                            2. Enter 2 to create deposit \n",
            "                            3. Enter 3 to withdraw\n",
            "                            4. Enter 4 to check balance\n",
            "                            5. Enter 5 to exit.  1\n",
            "create pin\n",
            "Enter Your Pin 123\n",
            "pin set succesfully\n"
          ]
        }
      ]
    },
    {
      "cell_type": "code",
      "source": [
        "sbi.deposit()"
      ],
      "metadata": {
        "colab": {
          "base_uri": "https://localhost:8080/"
        },
        "id": "XbhnGDLmHXJW",
        "outputId": "11df5e06-79b3-457a-eae7-1e5966036ef4"
      },
      "execution_count": 4,
      "outputs": [
        {
          "output_type": "stream",
          "name": "stdout",
          "text": [
            "Enter your pin 123\n",
            "Enter the amount123\n",
            "deposit successfull\n"
          ]
        }
      ]
    },
    {
      "cell_type": "code",
      "source": [
        "sbi.withdrawal()"
      ],
      "metadata": {
        "id": "SigdLZ-6u0Ld",
        "colab": {
          "base_uri": "https://localhost:8080/"
        },
        "outputId": "60e5aa72-5264-44c9-8c9d-5f50427aebfa"
      },
      "execution_count": 5,
      "outputs": [
        {
          "output_type": "stream",
          "name": "stdout",
          "text": [
            "Enter your pin 123\n",
            "Enter the amount100\n",
            "withdrawal successfull\n"
          ]
        }
      ]
    },
    {
      "cell_type": "code",
      "source": [
        "sbi.check_balance()"
      ],
      "metadata": {
        "id": "Jez0G9mFu0OZ",
        "colab": {
          "base_uri": "https://localhost:8080/"
        },
        "outputId": "009cff81-5ca6-4e2e-9715-e57e4b594849"
      },
      "execution_count": 6,
      "outputs": [
        {
          "output_type": "stream",
          "name": "stdout",
          "text": [
            "Enter your pin 123\n",
            "23\n"
          ]
        }
      ]
    },
    {
      "cell_type": "code",
      "source": [
        "hdfc = atm()"
      ],
      "metadata": {
        "colab": {
          "base_uri": "https://localhost:8080/"
        },
        "id": "DV25L98zRcmt",
        "outputId": "0ce47595-2ff2-4b3a-a804-b36671621c7d"
      },
      "execution_count": 8,
      "outputs": [
        {
          "output_type": "stream",
          "name": "stdout",
          "text": [
            " \n",
            "                            hello how would you like to proceed?\n",
            "                            1. Enter 1 to create pin\n",
            "                            2. Enter 2 to create deposit \n",
            "                            3. Enter 3 to withdraw\n",
            "                            4. Enter 4 to check balance\n",
            "                            5. Enter 5 to exit.  1\n",
            "create pin\n",
            "Enter Your Pin 456\n",
            "pin set succesfully\n"
          ]
        }
      ]
    },
    {
      "cell_type": "code",
      "source": [
        "hdfc.deposit()"
      ],
      "metadata": {
        "colab": {
          "base_uri": "https://localhost:8080/"
        },
        "id": "xnXx8QseRhPr",
        "outputId": "ead913b9-a977-4890-975f-dc36414a498b"
      },
      "execution_count": 9,
      "outputs": [
        {
          "output_type": "stream",
          "name": "stdout",
          "text": [
            "Enter your pin 456\n",
            "Enter the amount200\n",
            "deposit successfull\n"
          ]
        }
      ]
    },
    {
      "cell_type": "code",
      "source": [
        "hdfc.withdrawal()"
      ],
      "metadata": {
        "colab": {
          "base_uri": "https://localhost:8080/"
        },
        "id": "NnRcxvaVRwNr",
        "outputId": "71cf7894-bb47-432b-8ec4-8395da9edfa1"
      },
      "execution_count": 10,
      "outputs": [
        {
          "output_type": "stream",
          "name": "stdout",
          "text": [
            "Enter your pin 456\n",
            "Enter the amount100\n",
            "withdrawal successfull\n"
          ]
        }
      ]
    },
    {
      "cell_type": "code",
      "source": [
        "hdfc.check_balance()"
      ],
      "metadata": {
        "colab": {
          "base_uri": "https://localhost:8080/"
        },
        "id": "iG2zCsZyR5Nf",
        "outputId": "e183dc31-b30b-492f-97c0-07ade8595abe"
      },
      "execution_count": 11,
      "outputs": [
        {
          "output_type": "stream",
          "name": "stdout",
          "text": [
            "Enter your pin 456\n",
            "100\n"
          ]
        }
      ]
    }
  ]
}